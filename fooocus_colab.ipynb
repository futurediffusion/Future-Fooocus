{
 "cells": [
  {
   "cell_type": "code",
   "execution_count": null,
   "metadata": {
    "id": "VjYy0F2gZIPR"
   },
   "outputs": [],
   "source": [
    "!pip install pygit2==1.15.1\n",
    "%cd /content\n",
    "!git clone https://github.com/lllyasviel/Fooocus.git\n",
    "%cd /content/Fooocus\n",
    "!python entry_with_update.py --share --always-high-vram\n"
   ]
  },
  {
   "cell_type": "code",
   "execution_count": null,
   "id": "f6853c24",
   "metadata": {
    "id": "download-model"
   },
   "outputs": [],
   "source": [
    "import os, json, requests\n",
    "model_url = input('🔗 Pega aquí el enlace de Hugging Face del modelo (.safetensors): ').strip()\n",
    "model_dir = 'models/checkpoints'\n",
    "default_json_path = 'presets/default.json'\n",
    "os.makedirs(model_dir, exist_ok=True)\n",
    "filename = model_url.split('/')[-1]\n",
    "model_path = os.path.join(model_dir, filename)\n",
    "if not os.path.exists(model_path):\n",
    "    print(f'⬇️ Descargando modelo a: {model_path}')\n",
    "    r = requests.get(model_url, stream=True)\n",
    "    with open(model_path, 'wb') as f:\n",
    "        for chunk in r.iter_content(chunk_size=8192):\n",
    "            f.write(chunk)\n",
    "    print('✅ Descarga completa.')\n",
    "else:\n",
    "    print('⚠️ El modelo ya existe. No se descargó de nuevo.')\n",
    "with open(default_json_path, 'r') as f:\n",
    "    data = json.load(f)\n",
    "data['default_model'] = filename\n",
    "data.setdefault('checkpoint_downloads', {})[filename] = model_url\n",
    "if filename in data.get('previous_default_models', []):\n",
    "    data['previous_default_models'].remove(filename)\n",
    "with open(default_json_path, 'w') as f:\n",
    "    json.dump(data, f, indent=4)\n",
    "print(f\"✅ Se actualizó 'default_model' a: {filename}\")\n",
    "print(f'📁 Modelo listo para usar en la carpeta: {model_path}')"
   ]
  },
  {
   "cell_type": "code",
   "execution_count": null,
   "id": "af6d894a",
   "metadata": {
    "id": "download-loras"
   },
   "outputs": [],
   "source": [
    "\n",
    "from IPython.display import display, HTML\n",
    "from IPython.display import clear_output\n",
    "%cd /content/Future-Fooocus/models/loras\n",
    "lora_urls = \"\" # @param {\"type\":\"string\"}\n",
    "\n",
    "token_civitai = \"\" # @param {\"type\":\"string\"}\n",
    "\n",
    "urls = [url.strip() for url in lora_urls.split(\",\") if url.strip()]\n",
    "for url in urls:\n",
    "    if token_civitai:\n",
    "        !aria2c --console-log-level=error -c -x 16 -s 16 -k 1M {url}?token={token_civitai}\n",
    "    else:\n",
    "        !aria2c --console-log-level=error -c -x 16 -s 16 -k 1M {url}\n",
    "#clear_output()\n",
    "display(HTML(\"<h1 style='color: cyan;'>Descarga Finalizada</h1>\"))\n"
   ]
  }
 ],
 "metadata": {
  "accelerator": "GPU",
  "colab": {
   "gpuType": "T4",
   "provenance": []
  },
  "kernelspec": {
   "display_name": "Python 3",
   "name": "python3"
  },
  "language_info": {
   "name": "python"
  }
 },
 "nbformat": 4,
 "nbformat_minor": 0
}
