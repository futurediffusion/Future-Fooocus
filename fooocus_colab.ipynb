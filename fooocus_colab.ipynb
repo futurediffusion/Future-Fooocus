{
 "cells": [
  {
   "cell_type": "code",
   "execution_count": null,
   "metadata": {
    "id": "VjYy0F2gZIPR"
   },
   "outputs": [],
   "source": [
    "!pip install pygit2==1.15.1\n",
    "%cd /content\n",
    "!git clone https://github.com/lllyasviel/Fooocus.git\n",
    "%cd /content/Fooocus\n"
   ]
  },
  {
   "cell_type": "code",
   "source": [
    "#@title #**Descargar modelo y actualizar presets**\n",
    "from IPython.display import display, HTML\n",
    "import os, json, requests\n",
    "%cd /content/Fooocus\n",
    "model_url = input(\"\ud83d\udd17 Pega aqu\u00ed el enlace de Hugging Face o Civitai (.safetensors): \").strip()\n",
    "token_civitai = \"\" # @param {\"type\":\"string\"}\n",
    "model_dir = 'models/checkpoints'\n",
    "default_json_path = 'presets/default.json'\n",
    "os.makedirs(model_dir, exist_ok=True)\n",
    "filename = model_url.split('/')[-1]\n",
    "model_path = os.path.join(model_dir, filename)\n",
    "download_url = f'{model_url}?token={token_civitai}' if token_civitai else model_url\n",
    "if not os.path.exists(model_path):\n",
    "    display(HTML(\"<h1 style='color: yellow;'>Descargando modelo por favor espere...</h1>\"))\n",
    "    r = requests.get(download_url, stream=True)\n",
    "    with open(model_path, 'wb') as f:\n",
    "        for chunk in r.iter_content(chunk_size=8192):\n",
    "            f.write(chunk)\n",
    "    display(HTML(\"<h1 style='color: cyan;'>Descarga Finalizada</h1>\"))\n",
    "else:\n",
    "    print('\u26a0\ufe0f El modelo ya existe. No se descarg\u00f3 de nuevo.')\n",
    "with open(default_json_path, 'r') as f:\n",
    "    data = json.load(f)\n",
    "data['default_model'] = filename\n",
    "data.setdefault('checkpoint_downloads', {})[filename] = model_url\n",
    "if filename in data.get('previous_default_models', []):\n",
    "    data['previous_default_models'].remove(filename)\n",
    "with open(default_json_path, 'w') as f:\n",
    "    json.dump(data, f, indent=4)\n",
    "print(f'\u2705 Se actualiz\u00f3 \"default_model\" a: {filename}')\n",
    "print(f'\ud83d\udcc1 Modelo listo para usar en la carpeta: {model_path}')\n"
   ],
   "metadata": {
    "cellView": "form",
    "id": "descarga_modelo"
   },
   "execution_count": null,
   "outputs": []
  },
  {
   "cell_type": "code",
   "source": [
    "#@title #**Descargar Loras (Civitai o Hugginface)**\n",
    "#@markdown Ingresa tu token de civitai o dejalo en blanco si es un link de hugginface. <p>\n",
    "#@markdown separa los links por comas `(,)`\n",
    "from IPython.display import display, HTML\n",
    "from IPython.display import clear_output\n",
    "%cd /content/Fooocus/models/loras\n",
    "lora_urls = \"\" # @param {\"type\":\"string\"}\n",
    "\n",
    "token_civitai = \"\" # @param {\"type\":\"string\"}\n",
    "\n",
    "# Separa las URLs por comas\n",
    "urls = [url.strip() for url in lora_urls.split(',') if url.strip()] # Ignora URLs vac\u00edas\n",
    "\n",
    "# Descarga cada archivo\n",
    "for url in urls:\n",
    "    if token_civitai:\n",
    "        !aria2c --console-log-level=error -c -x 16 -s 16 -k 1M {url}?token={token_civitai}\n",
    "    else:\n",
    "        !aria2c --console-log-level=error -c -x 16 -s 16 -k 1M {url}\n",
    "\n",
    "# Muestra mensaje de descarga finalizada\n",
    "display(HTML(\"<h1 style='color: cyan;'>Descarga Finalizada</h1>\"))"
   ],
   "metadata": {
    "cellView": "form",
    "id": "descarga_loras"
   },
   "execution_count": null,
   "outputs": []
  },
  {
   "cell_type": "code",
   "source": [
    "#@title #**Inicia la webui**\n",
    "#@markdown **INICIA FUTURE FOOCUS**\n",
    "import os\n",
    "from IPython.display import clear_output\n",
    "# parche para ram\n",
    "if 'installed' not in globals():\n",
    "    !sudo apt-get install -y libjemalloc-dev -q\n",
    "    !gdown --fuzzy https://drive.google.com/file/d/1NFABbKFE19HpK1mqUJpFjFefY_oA9phm/view?usp=sharing -O /content/libjemalloc.so.2\n",
    "    installed = True  # Marcar como instalado\n",
    "else:\n",
    "    print(\"\\033[93mEL parche de ram ya se ha instalado. No es necesario reinstalar.\\033[0m\")\n",
    "    print(\"\\033[93mSaltando...\\033[0m\")\n",
    "\n",
    "%cd /content/Fooocus\n",
    "!uv pip install -r requirements_versions.txt --no-progress\n",
    "!uv pip install xformers==0.0.29.post3 -f https://download.pytorch.org/whl/cu124 --no-progress\n",
    "!python entry_with_update.py --share --always-high-vram\n"
   ],
   "metadata": {
    "cellView": "form",
    "id": "inicia_webui"
   },
   "execution_count": null,
   "outputs": []
  }
 ],
 "metadata": {
  "accelerator": "GPU",
  "colab": {
   "gpuType": "T4",
   "provenance": []
  },
  "kernelspec": {
   "display_name": "Python 3",
   "name": "python3"
  },
  "language_info": {
   "name": "python"
  }
 },
 "nbformat": 4,
 "nbformat_minor": 0
}
